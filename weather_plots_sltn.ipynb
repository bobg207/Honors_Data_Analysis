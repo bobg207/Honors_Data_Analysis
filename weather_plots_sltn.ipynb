{
  "nbformat": 4,
  "nbformat_minor": 0,
  "metadata": {
    "colab": {
      "name": "weather_plots_sltn.ipynb",
      "provenance": [],
      "collapsed_sections": [],
      "toc_visible": true,
      "include_colab_link": true
    },
    "kernelspec": {
      "name": "python3",
      "display_name": "Python 3"
    }
  },
  "cells": [
    {
      "cell_type": "markdown",
      "metadata": {
        "id": "view-in-github",
        "colab_type": "text"
      },
      "source": [
        "<a href=\"https://colab.research.google.com/github/bobg207/Honors_Data_Analysis/blob/master/weather_plots_sltn.ipynb\" target=\"_parent\"><img src=\"https://colab.research.google.com/assets/colab-badge.svg\" alt=\"Open In Colab\"/></a>"
      ]
    },
    {
      "cell_type": "markdown",
      "source": [
        "# Mount the drive\n",
        "\n",
        "The path to drive is '/content/drive'"
      ],
      "metadata": {
        "id": "SpoKEUEfAJvR"
      }
    },
    {
      "cell_type": "code",
      "metadata": {
        "id": "5ydUeyqjDVan",
        "colab": {
          "base_uri": "https://localhost:8080/"
        },
        "outputId": "a0833094-3b0a-4b88-c9ab-ecf5d57de0e2"
      },
      "source": [
        "from google.colab import drive\n",
        "drive.mount('/content/drive')"
      ],
      "execution_count": 1,
      "outputs": [
        {
          "output_type": "stream",
          "name": "stdout",
          "text": [
            "Mounted at /content/drive\n"
          ]
        }
      ]
    },
    {
      "cell_type": "markdown",
      "source": [
        "# Display the contents of the folder where the data exists\n",
        "\n",
        "Use `!ls` followed by the path to the folder containg the data file.  Be sure to escape `\\` any special characters, like spaces, that might be part of a folder name. The path to the folder begins with the path used above."
      ],
      "metadata": {
        "id": "d9fG6mX3AQmq"
      }
    },
    {
      "cell_type": "code",
      "metadata": {
        "id": "XlEiovK2DtLm",
        "colab": {
          "base_uri": "https://localhost:8080/"
        },
        "outputId": "0a63d273-9061-44db-f3b5-0a6ede5598d3"
      },
      "source": [
        "!ls /content/drive/My\\ Drive/Colab\\ Notebooks/*.txt"
      ],
      "execution_count": 2,
      "outputs": [
        {
          "output_type": "stream",
          "name": "stdout",
          "text": [
            "'/content/drive/My Drive/Colab Notebooks/address.txt'\n",
            "'/content/drive/My Drive/Colab Notebooks/Euro_2012_Team_Stats.txt'\n",
            "'/content/drive/My Drive/Colab Notebooks/PortlandWeather2013b.txt'\n",
            "'/content/drive/My Drive/Colab Notebooks/qb_data_2.txt'\n"
          ]
        }
      ]
    },
    {
      "cell_type": "markdown",
      "source": [
        "# Create a convert_temp function\n",
        "\n",
        "The temperatures, in the data, are in degrees Celsius and mulitplied by 10 so there are no decimals in the data.  Create a function to convert a given temp to a temp in degrees Fahrenheit, rounded to one decimal place.\n",
        "\n"
      ],
      "metadata": {
        "id": "ICPlcarrBVMj"
      }
    },
    {
      "cell_type": "code",
      "metadata": {
        "id": "Qm2pvMtjFCXf"
      },
      "source": [
        "def temp_convert(temp):\n",
        "  convert_decimal = int(temp)/10\n",
        "  convert_temp = round(1.8 * convert_decimal + 32, 1)\n",
        "  return convert_temp\n"
      ],
      "execution_count": 3,
      "outputs": []
    },
    {
      "cell_type": "markdown",
      "source": [
        "# Read the data from the file\n",
        "\n",
        "Create the path (should be the one use above, with the specific file that you will read from).\n",
        "\n",
        "Use this path to read the dat from the file.  Decide how you will do this and what format would you like the data returned as.\n",
        "\n",
        "Spend some time looking at the data and deciding how you will \"clean\" the data.  \n",
        "\n",
        "\n",
        "1.   What are the data types currently and what do you want them to be\n",
        "2.   What data do you want and how will you store the data you choose\n",
        "3.   How will you convert the data that needs changing\n",
        "4.   Is there any missing or unusual data? How will you handle this?\n",
        "5.   Other?"
      ],
      "metadata": {
        "id": "-ywZsDIFG6DG"
      }
    },
    {
      "cell_type": "code",
      "source": [
        "path = '/content/drive/My Drive/Colab Notebooks/PortlandWeather2013b.txt'\n",
        "\n",
        "with open(path) as file:\n",
        "  data_list = file.readlines()\n",
        "\n",
        "data_list"
      ],
      "metadata": {
        "id": "ZUR4ETRcG6tW"
      },
      "execution_count": null,
      "outputs": []
    },
    {
      "cell_type": "markdown",
      "source": [
        "# Cleaning the Data\n",
        "\n",
        "In this text cell explain your decisions based on what you saw in the data.  Organize your explanations so it is clear what your intent is and what code should be seen in the code cell that follows."
      ],
      "metadata": {
        "id": "Ht_wS5lLHQ3g"
      }
    },
    {
      "cell_type": "code",
      "source": [
        "weather_dict = {}\n",
        "dates = []\n",
        "precip = []\n",
        "snow = []\n",
        "max_temp = []\n",
        "min_temp = []\n",
        "\n",
        "for line in data_list[2:]:\n",
        "\n",
        "  data = line.split()\n",
        "\n",
        "  month = data[1][4:6]\n",
        "  day = data[1][6:]\n",
        "  date = f'{month}/{day}'\n",
        "  dates.append(date)\n",
        "\n",
        "  snow_inch = round(int(data[4]) / 25.4, 1)\n",
        "  precip_inch = round(int(data[2]) / 25.4, 1)\n",
        "  precip.append(precip_inch)\n",
        "  snow.append(snow_inch)\n",
        "\n",
        "  max_temp_f = temp_convert(data[5])\n",
        "  min_temp_f = temp_convert(data[6])\n",
        "  max_temp.append(max_temp_f)\n",
        "  min_temp.append(min_temp_f)\n",
        "\n",
        "weather_dict['dates'] = dates\n",
        "weather_dict['precip'] = precip\n",
        "weather_dict['snow'] = snow\n",
        "weather_dict['max_temp'] = max_temp\n",
        "weather_dict['min_temp'] = min_temp"
      ],
      "metadata": {
        "id": "x0aT8LptHRng"
      },
      "execution_count": 12,
      "outputs": []
    },
    {
      "cell_type": "code",
      "source": [
        "print(weather_dict)"
      ],
      "metadata": {
        "id": "ngWTyNmo_h6k"
      },
      "execution_count": null,
      "outputs": []
    },
    {
      "cell_type": "markdown",
      "source": [
        "# Plotting Data"
      ],
      "metadata": {
        "id": "kbF2gtNkAEKk"
      }
    },
    {
      "cell_type": "markdown",
      "source": [
        "## Subplots of Daily High and Daily Low Temperatures\n",
        "1. Create a Numpy array of numbers from 1 - 365, to be used for the x-axis \n",
        "2. x- and y-axes should share the same values\n",
        "3. label the axes and title the plot\n",
        "4. use a scatterplot to display the data"
      ],
      "metadata": {
        "id": "v3Yc1otqPpx8"
      }
    },
    {
      "cell_type": "code",
      "metadata": {
        "id": "NycT6ESKXP5c",
        "colab": {
          "base_uri": "https://localhost:8080/",
          "height": 349
        },
        "outputId": "1039a3bf-b10a-4f2c-fd58-4181fe6b94d0"
      },
      "source": [
        "import matplotlib.pyplot as plt\n",
        "import numpy as np\n",
        "\n",
        "plt.style.use(\"fivethirtyeight\")\n",
        "\n",
        "x_ticks = np.arange(1, 366)\n",
        "\n",
        "fig, (ax1, ax2) = plt.subplots(2, sharex=True, sharey=True)\n",
        "fig.suptitle('Daily Temps in 2013')\n",
        "plt.figure(figsize=(15, 18))\n",
        "\n",
        "ax1.set_ylabel(\"Lows (F)\")\n",
        "ax1.scatter(x_ticks, min_temp, marker='.')\n",
        "\n",
        "ax2.set_ylabel(\"Highs (F)\")\n",
        "ax2.set_xlabel('Days')\n",
        "ax2.scatter(x_ticks, max_temp, marker='.', color='red')\n",
        "\n",
        "plt.tight_layout()\n",
        "\n",
        "# plt.show()"
      ],
      "execution_count": 18,
      "outputs": [
        {
          "output_type": "display_data",
          "data": {
            "text/plain": [
              "<Figure size 432x288 with 2 Axes>"
            ],
            "image/png": "[encoded data removed]"
          },
          "metadata": {}
        },
        {
          "output_type": "display_data",
          "data": {
            "text/plain": [
              "<Figure size 1080x1296 with 0 Axes>"
            ]
          },
          "metadata": {}
        }
      ]
    }
  ]
}