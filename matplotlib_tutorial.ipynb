{
  "nbformat": 4,
  "nbformat_minor": 0,
  "metadata": {
    "colab": {
      "name": "matplotlib_tutorial.ipynb",
      "private_outputs": true,
      "provenance": [],
      "collapsed_sections": [],
      "include_colab_link": true
    },
    "kernelspec": {
      "name": "python3",
      "display_name": "Python 3"
    }
  },
  "cells": [
    {
      "cell_type": "markdown",
      "metadata": {
        "id": "view-in-github",
        "colab_type": "text"
      },
      "source": [
        "<a href=\"https://colab.research.google.com/github/bobg207/Honors_Data_Analysis/blob/master/matplotlib_tutorial.ipynb\" target=\"_parent\"><img src=\"https://colab.research.google.com/assets/colab-badge.svg\" alt=\"Open In Colab\"/></a>"
      ]
    },
    {
      "cell_type": "markdown",
      "metadata": {
        "id": "Gsxeq0_hL3LX"
      },
      "source": [
        "When using the matplotlib.pyplot library it's good to have the documentation available for reference: \n",
        "\n",
        "https://matplotlib.org/3.1.0/api/_as_gen/matplotlib.pyplot.html\n",
        "\n",
        "It's important to familiarize yourself with the documentation and understand how to find solutions to any plotting challenges that may arise.\n",
        "\n",
        "### Tip: when you're on the documentation website, use *Control-F* to search for the concept you need, then you can press *Enter* to jump between search results. "
      ]
    },
    {
      "cell_type": "markdown",
      "metadata": {
        "id": "A9mCcU8Th-vh"
      },
      "source": [
        "Make sure to execute the following code to load Matplotlib,  Numpy, and data sets for all subsequent cells"
      ]
    },
    {
      "cell_type": "code",
      "metadata": {
        "id": "u3zbeKWoMA40"
      },
      "source": [
        "from matplotlib import pyplot as plt\n",
        "import numpy as np\n",
        "\n",
        "# data taken from 2019 StackOverflow developer survey\n",
        "# median salaries of python, javascript, and all developers ages 18 to 55\n",
        "ages_x = [18, 19, 20, 21, 22, 23, 24, 25, 26, 27, 28, 29, 30, 31, 32, 33, 34, 35,\n",
        "          36, 37, 38, 39, 40, 41, 42, 43, 44, 45, 46, 47, 48, 49, 50, 51, 52, 53, 54, 55]\n",
        "\n",
        "py_dev_y = [20046, 17100, 20000, 24744, 30500, 37732, 41247, 45372, 48876, 53850, 57287, 63016, 65998, 70003, 70000, 71496, 75370, 83640, 84666,\n",
        "            84392, 78254, 85000, 87038, 91991, 100000, 94796, 97962, 93302, 99240, 102736, 112285, 100771, 104708, 108423, 101407, 112542, 122870, 120000]\n",
        "\n",
        "js_dev_y = [16446, 16791, 18942, 21780, 25704, 29000, 34372, 37810, 43515, 46823, 49293, 53437, 56373, 62375, 66674, 68745, 68746, 74583, 79000,\n",
        "            78508, 79996, 80403, 83820, 88833, 91660, 87892, 96243, 90000, 99313, 91660, 102264, 100000, 100000, 91660, 99240, 108000, 105000, 104000]\n",
        "\n",
        "dev_y = [17784, 16500, 18012, 20628, 25206, 30252, 34368, 38496, 42000, 46752, 49320, 53200, 56000, 62316, 64928, 67317, 68748, 73752, 77232,\n",
        "         78000, 78508, 79536, 82488, 88935, 90000, 90056, 95000, 90000, 91633, 91660, 98150, 98964, 100000, 98988, 100000, 108923, 105000, 103117]"
      ],
      "execution_count": null,
      "outputs": []
    },
    {
      "cell_type": "markdown",
      "metadata": {
        "id": "PifsLY-vWKXF"
      },
      "source": [
        "# **Resize Plot**\n",
        "The plots, as displayed in the notebooks, can be somewhat small.  To resize a plot to make it more readable use the  [figure()](https://matplotlib.org/3.1.0/api/_as_gen/matplotlib.pyplot.figure.html#matplotlib.pyplot.figure) method:\n",
        "\n",
        "    plt.figure(figsize=(length, width))\n",
        "    "
      ]
    },
    {
      "cell_type": "markdown",
      "metadata": {
        "id": "aNwFQBpAMuoz"
      },
      "source": [
        "# **[Line Plots](https://matplotlib.org/api/_as_gen/matplotlib.pyplot.plot.html#matplotlib.pyplot.plot)**\n"
      ]
    },
    {
      "cell_type": "code",
      "metadata": {
        "id": "PKOYm2ErQEPr",
        "cellView": "code"
      },
      "source": [
        "# ignore this for now\n",
        "plt.style.use('default')\n",
        "\n",
        "# Basic plotting\n",
        "plt.plot(ages_x, py_dev_y)\n",
        "plt.plot(ages_x, js_dev_y)\n",
        "plt.plot(ages_x, dev_y)\n",
        "\n",
        "plt.title('Developer Salaries from 2019 StackOverflow Survey')\n",
        "plt.xlabel('Developer Age')\n",
        "plt.ylabel('Median Salary (USD)')\n",
        "\n",
        "plt.show()"
      ],
      "execution_count": null,
      "outputs": []
    },
    {
      "cell_type": "markdown",
      "metadata": {
        "id": "L48Fj4GmS1ZA"
      },
      "source": [
        "Next we can add some customization to our plots.\n",
        "\n",
        "First we'll add a legend to help the viewer differentiate between the plots."
      ]
    },
    {
      "cell_type": "code",
      "metadata": {
        "id": "16Yv129nS74S"
      },
      "source": [
        "# to add a legend, use 'label=' param in each plot\n",
        "plt.plot(ages_x, py_dev_y, label='Python')\n",
        "plt.plot(ages_x, js_dev_y, label='Javascript')\n",
        "plt.plot(ages_x, dev_y, label='All Devs')\n",
        "\n",
        "plt.title('Developer Salaries from 2019 StackOverflow Survey')\n",
        "plt.xlabel('Developer Age')\n",
        "plt.ylabel('Median Salary (USD)')\n",
        "\n",
        "# add the legend method\n",
        "plt.legend()\n",
        "\n",
        "plt.show()"
      ],
      "execution_count": null,
      "outputs": []
    },
    {
      "cell_type": "markdown",
      "metadata": {
        "id": "wpU8yN3ZUPKT"
      },
      "source": [
        "Second we'll customize the plots.\n",
        "\n",
        "See the documentation for colors, markers, and linestyles.  To get special colors using hexidecimal values check-out any online color picker such as:\n",
        "\n",
        "https://www.w3schools.com/colors/colors_picker.asp"
      ]
    },
    {
      "cell_type": "code",
      "metadata": {
        "id": "d1KRNoTNUcur"
      },
      "source": [
        "# notice the different ways to customize a plot\n",
        "# using params, hexidecimal colors, and format string\n",
        "plt.plot(ages_x, py_dev_y, label='Python', color='b', linestyle=':')\n",
        "plt.plot(ages_x, js_dev_y, label='Javascript', color='#ff3300', marker='.')\n",
        "plt.plot(ages_x, dev_y, 'k--+', label='All Devs')\n",
        "\n",
        "plt.title('Median Developer Salaries \\nfrom 2019 StackOverflow Survey')\n",
        "plt.xlabel('Developer Age')\n",
        "plt.ylabel('Median Salary (USD)')\n",
        "\n",
        "plt.legend()\n",
        "\n",
        "plt.show()"
      ],
      "execution_count": null,
      "outputs": []
    },
    {
      "cell_type": "markdown",
      "metadata": {
        "id": "rs_RSLVuWRL_"
      },
      "source": [
        "That's a little too busy with all of the markers but they're there just for demonstration.\n",
        "\n",
        "Lastly, let's finish up with adding a grid, using different styles, and the tight_layout() method."
      ]
    },
    {
      "cell_type": "code",
      "metadata": {
        "id": "HnBoYa7PVFu0"
      },
      "source": [
        "# to see the many styles avaiable (seaborn and fivethirtyeight are most used)\n",
        "plt.style.available"
      ],
      "execution_count": null,
      "outputs": []
    },
    {
      "cell_type": "code",
      "metadata": {
        "id": "6eZrusgKYEZG"
      },
      "source": [
        "# substitute any style from list above\n",
        "plt.style.use('fivethirtyeight')\n",
        "\n",
        "plt.plot(ages_x, py_dev_y, label='Python', color='b')\n",
        "plt.plot(ages_x, js_dev_y, label='Javascript', color='#ff3300')\n",
        "plt.plot(ages_x, dev_y, 'k--', label='All Devs')\n",
        "\n",
        "plt.title('Median Developer Salaries \\nfrom 2019 StackOverflow Survey')\n",
        "plt.xlabel('Developer Age')\n",
        "plt.ylabel('Median Salary (USD)')\n",
        "\n",
        "plt.legend()\n",
        "# plt.grid()          # needed for base plot and any styles that don't include\n",
        "plt.tight_layout()    # will automatically pad the plot to fit the window \n",
        "\n",
        "plt.show()"
      ],
      "execution_count": null,
      "outputs": []
    },
    {
      "cell_type": "markdown",
      "metadata": {
        "id": "ndiFbDrLhMZS"
      },
      "source": [
        "# **[Bar Graphs](https://matplotlib.org/api/_as_gen/matplotlib.pyplot.bar.html#matplotlib.pyplot.bar)**\n",
        "\n",
        "Make sure to reference  [matplotlib.pyplot.barh](https://matplotlib.org/api/_as_gen/matplotlib.pyplot.barh.html#matplotlib.pyplot.barh) for horizontal bar graphs"
      ]
    },
    {
      "cell_type": "code",
      "metadata": {
        "id": "sVab8XpqXzwC"
      },
      "source": [
        "plt.style.use(\"fivethirtyeight\")\n",
        "\n",
        "\n",
        "ages_x = [25, 26, 27, 28, 29, 30, 31, 32, 33, 34, 35]\n",
        "\n",
        "dev_y = [38496, 42000, 46752, 49320, 53200,\n",
        "         56000, 62316, 64928, 67317, 68748, 73752]\n",
        "\n",
        "py_dev_y = [45372, 48876, 53850, 57287, 63016,\n",
        "            65998, 70003, 70000, 71496, 75370, 83640]\n",
        "\n",
        "js_dev_y = [37810, 43515, 46823, 49293, 53437,\n",
        "            56373, 62375, 66674, 68745, 68746, 74583]\n",
        "\n",
        "# start with all devs as a bar and line plots for the others\n",
        "plt.plot(ages_x, py_dev_y, label='Python', color='b')\n",
        "plt.plot(ages_x, js_dev_y, label='Javascript', color='#ff3300')\n",
        "plt.bar(ages_x, dev_y, label='All Devs', color='k')\n",
        "\n",
        "plt.legend()\n",
        "\n",
        "plt.title(\"Median Salary (USD) by Age\")\n",
        "plt.xlabel(\"Ages\")\n",
        "plt.ylabel(\"Median Salary (USD)\")\n",
        "\n",
        "# plt.xticks(ages_x)   # you can control the ticks\n",
        "\n",
        "plt.tight_layout()\n",
        "\n",
        "plt.show()"
      ],
      "execution_count": null,
      "outputs": []
    },
    {
      "cell_type": "markdown",
      "metadata": {
        "id": "jc1NBgHQj4-n"
      },
      "source": [
        "Interesting look but let's have all 3 bar graphs represented."
      ]
    },
    {
      "cell_type": "code",
      "metadata": {
        "id": "pSNAyfSDh1jL"
      },
      "source": [
        "#plt.style.use(\"fivethirtyeight\")\n",
        "\n",
        "# all 3 as bars but there's a problem\n",
        "plt.bar(ages_x, py_dev_y, label='Python', color='b')\n",
        "plt.bar(ages_x, js_dev_y, label='Javascript', color='#ff3300')\n",
        "plt.bar(ages_x, dev_y, label='All Devs', color='k')\n",
        "\n",
        "plt.legend()\n",
        "\n",
        "plt.title(\"Median Salary (USD) by Age\")\n",
        "plt.xlabel(\"Ages\")\n",
        "plt.ylabel(\"Median Salary (USD)\")\n",
        "\n",
        "# plt.xticks(ages_x)   # you can control the ticks\n",
        "\n",
        "plt.tight_layout()\n",
        "\n",
        "plt.show()"
      ],
      "execution_count": null,
      "outputs": []
    },
    {
      "cell_type": "markdown",
      "metadata": {
        "id": "li911kMwkThc"
      },
      "source": [
        "Notice that the bars overlay each other.  Could be useful but not with this data. It might be better to see them side-by-side for each age.\n",
        "\n",
        "1.  create a Numpy array of indices from 0 to the length of the *ages_x list* - 1.  We'll take a look at the Numpy library more in-depth later.\n",
        "\n",
        "2. create a variable to store the width I want each bar to be. Defaut is 0.8 so 3 bars at .25 will be less than default.\n",
        "\n",
        "3. shift the first bar to the left by subtracting *width* from each element of *x_indexes*, then shift the third bar to the right by adding *width*\n",
        "\n",
        "4. change the width, using the *width=* param, of each bar to be *width*"
      ]
    },
    {
      "cell_type": "code",
      "metadata": {
        "id": "8hqGvFLBkHEG"
      },
      "source": [
        "# numpy array for indices from 0 to len(ages_x)-1\n",
        "x_indexes = np.arange(len(ages_x))\n",
        "width = 0.25\n",
        "\n",
        "# shifting the 1st and 3rd bars and changing each bar's width\n",
        "plt.bar(x_indexes - width, py_dev_y, width=width, label='Python', color='b')\n",
        "plt.bar(x_indexes, js_dev_y, width=width, label='Javascript', color='#ff3300')\n",
        "plt.bar(x_indexes + width, dev_y, width=width, label='All Devs', color='k')\n",
        "\n",
        "plt.legend()\n",
        "\n",
        "plt.title(\"Median Salary (USD) by Age\")\n",
        "plt.xlabel(\"Ages\")\n",
        "plt.ylabel(\"Median Salary (USD)\")\n",
        "\n",
        "plt.tight_layout()\n",
        "\n",
        "plt.show()"
      ],
      "execution_count": null,
      "outputs": []
    },
    {
      "cell_type": "markdown",
      "metadata": {
        "id": "K29aVfr6pZAD"
      },
      "source": [
        "New problem.  By creating and using the Numpy array our Ages are incorrect.\n",
        "\n",
        "We can use the *xticks()* method to correct this."
      ]
    },
    {
      "cell_type": "code",
      "metadata": {
        "id": "l_zz8GNZl4C5"
      },
      "source": [
        "x_indexes = np.arange(len(ages_x))\n",
        "width = 0.25\n",
        "\n",
        "plt.bar(x_indexes - width, py_dev_y, width=width, label='Python', color='b')\n",
        "plt.bar(x_indexes, js_dev_y, width=width, label='Javascript', color='#ff3300')\n",
        "plt.bar(x_indexes + width, dev_y, width=width, label='All Devs', color='k')\n",
        "\n",
        "plt.legend()\n",
        "\n",
        "# params: ticks= list of positions where ticks should be placed \n",
        "#         labels= list of explicit labels to be displayed\n",
        "plt.xticks(ticks=x_indexes, labels=ages_x)\n",
        "\n",
        "plt.title(\"Median Salary (USD) by Age\")\n",
        "plt.xlabel(\"Ages\")\n",
        "plt.ylabel(\"Median Salary (USD)\")\n",
        "\n",
        "plt.tight_layout()\n",
        "\n",
        "plt.show()"
      ],
      "execution_count": null,
      "outputs": []
    },
    {
      "cell_type": "markdown",
      "metadata": {
        "id": "XKYY3OtMtkII"
      },
      "source": [
        "To make the same graph horizontal:\n",
        " \n",
        "\n",
        "1.  use *plt.barh()*\n",
        "2.  change *width* and *width=* to *height* and *height=*\n",
        "3.  change *plt.xticks()* to *plt.yticks()*\n",
        "\n"
      ]
    },
    {
      "cell_type": "code",
      "metadata": {
        "id": "IQqw18HRp6XK"
      },
      "source": [
        "y_indexes = np.arange(len(ages_x))\n",
        "height = 0.25\n",
        "\n",
        "plt.barh(y_indexes - height, py_dev_y, height=height, label='Python', color='b')\n",
        "plt.barh(y_indexes, js_dev_y, height=height, label='Javascript', color='#ff3300')\n",
        "plt.barh(y_indexes + height, dev_y, height=height, label='All Devs', color='k')\n",
        "\n",
        "plt.legend()\n",
        "\n",
        "# params: ticks= list of positions where ticks should be place; \n",
        "#         labels= list of explicit labels\n",
        "plt.yticks(ticks=y_indexes, labels=ages_x)\n",
        "\n",
        "plt.title(\"Median Salary (USD) by Age\")\n",
        "plt.ylabel(\"Ages\")\n",
        "plt.xlabel(\"Median Salary (USD)\")\n",
        "\n",
        "plt.tight_layout()\n",
        "\n",
        "plt.show()"
      ],
      "execution_count": null,
      "outputs": []
    },
    {
      "cell_type": "markdown",
      "metadata": {
        "id": "-5X8vxS2gnvh"
      },
      "source": [
        "Another way to handle multiple bars side-by-side is to use the *height* and *align* params. Align can be set to center or edge.  If set to edge the bar will be moved to the left(upper) edge of the full width(height) of the bar, which is .8 by default.  To make the bar move to the right(lower) edge make the height param equal to a negative height"
      ]
    },
    {
      "cell_type": "code",
      "metadata": {
        "id": "E3XK6YXXgIB-"
      },
      "source": [
        "months = ['January', 'February', 'March', 'April', 'May', 'June', 'July', \n",
        "          'August', 'September', 'October', 'November', 'December']\n",
        "\n",
        "# generate random data\n",
        "data1 = [np.random.randint(1,20) for n in range(12)]\n",
        "data2 = [np.random.randint(1,20) for n in range(12)]\n",
        "\n",
        "height = .4  # half of default height(width)\n",
        "\n",
        "plt.style.use('seaborn')\n",
        "\n",
        "plt.barh(months, data1, height=height, align='edge', label='High')     # positive height and align=edge to move bar up\n",
        "plt.barh(months, data2, height=-1*height, align='edge', label='Low')  # negative height and align=edge to move bar dwn\n",
        "\n",
        "plt.legend() \n",
        "\n",
        "plt.tight_layout()\n",
        "\n",
        "plt.show()"
      ],
      "execution_count": null,
      "outputs": []
    },
    {
      "cell_type": "markdown",
      "metadata": {
        "id": "AS8dPHUXubgV"
      },
      "source": [
        "Not a hard rule but generally speaking nominal/categorical (ie words) and/or >10 categories are best displayed horizontally.  Ordinal/sequential and/or <10 categories best displayed with a vertical orientation.  \n",
        "\n",
        "The bar graphs presented here seem best in a vertical orientation. (ages are ordinal/sequential)"
      ]
    },
    {
      "cell_type": "markdown",
      "metadata": {
        "id": "ouexUufxVvEi"
      },
      "source": [
        "# **[Pie Charts](https://matplotlib.org/api/_as_gen/matplotlib.pyplot.pie.html#matplotlib.pyplot.pie)**\n"
      ]
    },
    {
      "cell_type": "code",
      "metadata": {
        "id": "cnh9azgwV18O"
      },
      "source": [
        "from matplotlib import pyplot as plt\n",
        "\n",
        "# Language Popularity; data and label lists must be same length\n",
        "data_slices = [59219, 55466, 47544, 36443, 35917]\n",
        "lang_labels = ['JavaScript', 'HTML/CSS', 'SQL', 'Python', 'Java']\n",
        "\n",
        "plt.style.use(\"fivethirtyeight\")\n",
        "\n",
        "# array which specifies the fraction of the radius to offset each wedge.\n",
        "python_explode = [0, 0, 0, 0.1, 0]\n",
        "\n",
        "plt.pie(data_slices, labels=lang_labels, explode=python_explode, shadow=True,\n",
        "        startangle=90, autopct='%.1f%%', wedgeprops={'edgecolor': 'black'})\n",
        "\n",
        "plt.title(\"Programming Languages\")\n",
        "plt.tight_layout()\n",
        "plt.show()"
      ],
      "execution_count": null,
      "outputs": []
    },
    {
      "cell_type": "markdown",
      "metadata": {
        "id": "O-_7MZ4XWyE3"
      },
      "source": [
        "Notice the params in *plt.pie()*\n",
        "\n",
        "1.  *explode=* is a *len(x)* array which specifies the fraction of the radius with which to offset each wedge.\n",
        "2.  *shadow=* Draws a shadow beneath the pie.\n",
        "3.  *startangle=* rotates the start of the pie chart by angle degrees counterclockwise from the x-axis.\n",
        "4.  *autopct=* a format string or function used to label the wedges with their numeric value, the label will be *fmt%pct*\n",
        "5.  *wedgeprops=* Dict of arguments passed to the wedge objects making the pie. \n",
        "\n",
        "See documentation for others and further explanation"
      ]
    },
    {
      "cell_type": "markdown",
      "metadata": {
        "id": "2DGdjEgPiTU2"
      },
      "source": [
        "# **[Histograms](https://matplotlib.org/api/_as_gen/matplotlib.pyplot.hist.html#matplotlib.pyplot.hist)**"
      ]
    },
    {
      "cell_type": "code",
      "metadata": {
        "id": "oB9b9QOogGF1"
      },
      "source": [
        "import pandas as pd\n",
        "import matplotlib.pyplot as plt\n",
        "\n",
        "# loading the data, we'll cover the pandas library later\n",
        "url = 'https://raw.githubusercontent.com/bobg207/Honors_Data_Analysis/master/age_data.csv'\n",
        "data = pd.read_csv(url)\n",
        "\n",
        "# more pandas to get specific data\n",
        "ids = data['Responder_id']\n",
        "ages = data['Age']\n",
        "\n",
        "# creating the bins, could use Numpy np.arange(0, 110, 10) for this as well\n",
        "bins = [x for x in range(0, 110, 10)]\n",
        "\n",
        "# create histogram using logarithmic scale for y-axis\n",
        "plt.hist(ages, bins=bins, edgecolor='black', log=True)\n",
        "\n",
        "# properties for vertical line representing the median age\n",
        "median_age = data['Age'].median()\n",
        "color = '#fc4f30'\n",
        "\n",
        "# plot the median age as a vertical line using .axvline()\n",
        "plt.axvline(median_age, color=color, label='Age Median', linewidth=2)\n",
        "\n",
        "plt.legend()\n",
        "\n",
        "plt.title('Ages of Respondents', fontdict={'fontsize':18, 'fontweight': 'bold'})\n",
        "plt.xlabel('Ages')\n",
        "plt.ylabel('Total Respondents')\n",
        "\n",
        "plt.tight_layout()\n",
        "\n",
        "plt.show()"
      ],
      "execution_count": null,
      "outputs": []
    },
    {
      "cell_type": "markdown",
      "metadata": {
        "id": "-_Pju5VG6Yc4"
      },
      "source": [
        "# **[Scatter Plots](https://matplotlib.org/api/_as_gen/matplotlib.pyplot.scatter.html#matplotlib.pyplot.scatter)**"
      ]
    },
    {
      "cell_type": "code",
      "metadata": {
        "id": "daTnmcnLAqjV"
      },
      "source": [
        "import pandas as pd\n",
        "from matplotlib import pyplot as plt\n",
        "\n",
        "plt.style.use('seaborn')\n",
        "\n",
        "x = [5, 7, 8, 5, 6, 7, 9, 2, 3, 4, 4, 4, 2, 6, 3, 6, 8, 6, 4, 1]\n",
        "y = [7, 4, 3, 9, 1, 3, 2, 5, 2, 4, 8, 7, 1, 6, 4, 9, 7, 7, 5, 1]\n",
        "\n",
        "plt.scatter(x, y)\n",
        "\n",
        "plt.tight_layout()\n",
        "\n",
        "plt.show()"
      ],
      "execution_count": null,
      "outputs": []
    },
    {
      "cell_type": "markdown",
      "metadata": {
        "id": "hdNyIteeBRDw"
      },
      "source": [
        "Nice, simple scatterplot.  Easy to see that there is almost no correlation between the data.  Let's take a look at some ways to customize the plot.\n",
        "\n",
        "First I'll change the size, color, edge around the markers, the width of that edge, and soften the color."
      ]
    },
    {
      "cell_type": "code",
      "metadata": {
        "id": "cyLyx8FDBLP_"
      },
      "source": [
        "import pandas as pd\n",
        "from matplotlib import pyplot as plt\n",
        "\n",
        "plt.style.use('seaborn')\n",
        "\n",
        "x = [5, 7, 8, 5, 6, 7, 9, 2, 3, 4, 4, 4, 2, 6, 3, 6, 8, 6, 4, 1]\n",
        "y = [7, 4, 3, 9, 1, 3, 2, 5, 2, 4, 8, 7, 1, 6, 4, 9, 7, 7, 5, 1]\n",
        "\n",
        "plt.scatter(x, y, s=100, c='green', edgecolor='black', linewidth=1, alpha=.75)\n",
        "\n",
        "plt.tight_layout()\n",
        "\n",
        "plt.show()"
      ],
      "execution_count": null,
      "outputs": []
    },
    {
      "cell_type": "markdown",
      "metadata": {
        "id": "wplDAP5zC5ns"
      },
      "source": [
        "Next we'll take a look at how we can vary the size and color of the plots.  This will allow us to add other data sets to the plot.\n",
        "\n",
        "Below I've added a list of integers, of the same length as data lists, corresponding to the desired intensity of the color (random right now) of the data at the same index.\n",
        "\n",
        "In *plt.scatter()* I've replaced 'green' with the *satisfaction* variable, and then specified the colormap I want used to show the intensity using the *cmap=* param. Visit https://matplotlib.org/3.1.0/tutorials/colors/colormaps.html to see available colormaps.\n",
        "\n",
        "It might be helpful to think of the data as represent product reviews by consumer.  With the shade of the data point representing customer satisfaction with the item."
      ]
    },
    {
      "cell_type": "code",
      "metadata": {
        "id": "Yjp4NZ6UC6HR"
      },
      "source": [
        "import pandas as pd\n",
        "from matplotlib import pyplot as plt\n",
        "\n",
        "plt.style.use('seaborn')\n",
        "\n",
        "# consumer and product information\n",
        "consumer = [5, 7, 8, 5, 6, 7, 9, 2, 3, 4, 4, 4, 2, 6, 3, 6, 8, 6, 4, 1]\n",
        "product = [7, 4, 3, 9, 1, 3, 2, 5, 2, 4, 8, 7, 1, 6, 4, 9, 7, 7, 5, 1]\n",
        "\n",
        "# consumers satifaction with the product based on their review\n",
        "satisfaction = [7, 5, 9, 7, 5, 7, 2, 5, 3, 7, 1, 2, 8, 1, 9, 2, 5, 6, 7, 5]\n",
        "\n",
        "plt.scatter(consumer, product, s=500, c=satisfaction, cmap='Greens', \n",
        "            edgecolor='black', linewidth=2, alpha=.75)\n",
        "\n",
        "plt.title('Product Reviews')\n",
        "plt.xlabel('Consumer')\n",
        "plt.ylabel('Item Reviewed')\n",
        "\n",
        "plt.tight_layout()\n",
        "\n",
        "plt.show()"
      ],
      "execution_count": null,
      "outputs": []
    },
    {
      "cell_type": "markdown",
      "metadata": {
        "id": "XswA9j-UGxai"
      },
      "source": [
        "Looks nice but it's not clear what the shade of the data point represents.  To help with this we can add a color bar to show the range of colors and their weight.\n",
        "\n",
        "To do this we'll use *plt.colorbar()*"
      ]
    },
    {
      "cell_type": "code",
      "metadata": {
        "id": "JMf63BM7GwXe"
      },
      "source": [
        "import pandas as pd\n",
        "from matplotlib import pyplot as plt\n",
        "\n",
        "plt.style.use('seaborn')\n",
        "\n",
        "# consumer and product information\n",
        "consumer = [5, 7, 8, 5, 6, 7, 9, 2, 3, 4, 4, 4, 2, 6, 3, 6, 8, 6, 4, 1]\n",
        "product = [7, 4, 3, 9, 1, 3, 2, 5, 2, 4, 8, 7, 1, 6, 4, 9, 7, 7, 5, 1]\n",
        "\n",
        "# consumers satifaction with the product based on their review\n",
        "satisfaction = [7, 5, 9, 7, 5, 7, 2, 5, 3, 7, 1, 2, 8, 1, 9, 2, 5, 6, 7, 5]\n",
        "\n",
        "plt.scatter(consumer, product, s=500, c=satisfaction, cmap='Greens', \n",
        "            edgecolor='black', linewidth=1, alpha=.75)\n",
        "\n",
        "cbar = plt.colorbar()\n",
        "cbar.set_label('Customer Satisfaction')\n",
        "\n",
        "plt.title('Product Reviews')\n",
        "plt.xlabel('Consumer')\n",
        "plt.ylabel('Item Reviewed')\n",
        "\n",
        "plt.tight_layout()\n",
        "\n",
        "plt.show()"
      ],
      "execution_count": null,
      "outputs": []
    },
    {
      "cell_type": "markdown",
      "metadata": {
        "id": "3ss2RwwvJp7c"
      },
      "source": [
        "If I had another list of data showing the number of people that found the consumers review helpful I could add that to the plot.\n",
        "\n",
        "To represent this data, I'll do something similar to the color intensity, but now I'll show the relative helpfulness of the review by adjusting the size of the data points.\n",
        "\n",
        "Below you'll see the new data set *helpfulness* that contains the number of people that flagged that persons review as helpful.  I've replaced the static size of 100 with this list of values. Each data point will have it's size determined by the vallue at the same index of the *helpfulness* list.\n",
        "\n",
        "Some text has been added to explain the meaning of the different sizes."
      ]
    },
    {
      "cell_type": "code",
      "metadata": {
        "id": "mlxuEmpjKWHO"
      },
      "source": [
        "import pandas as pd\n",
        "from matplotlib import pyplot as plt\n",
        "\n",
        "plt.style.use('seaborn')\n",
        "\n",
        "# consumer and product information\n",
        "consumer = [5, 7, 8, 5, 6, 7, 9, 2, 3, 4, 4, 4, 2, 6, 3, 6, 8, 6, 4, 1]\n",
        "product = [7, 4, 3, 9, 1, 3, 2, 5, 2, 4, 8, 7, 1, 6, 4, 9, 7, 7, 5, 1]\n",
        "\n",
        "# consumers satifaction with the product based on their review\n",
        "satisfaction = [7, 5, 9, 7, 5, 7, 2, 5, 3, 7, 1, 2, 8, 1, 9, 2, 5, 6, 7, 5]\n",
        "\n",
        "# how many people found the consumers review helpful\n",
        "helpfulness = [209, 486, 381, 255, 191, 315, 185, 228, 174,\n",
        "              538, 239, 394, 399, 153, 273, 293, 436, 501, 397, 539]\n",
        "\n",
        "# text to describe the meaning of the different size data points\n",
        "label = 'Size = relative \\nhelpfulness of review'\n",
        "\n",
        "plt.scatter(consumer, product, s=helpfulness, c=satisfaction, cmap='Greens', \n",
        "            edgecolor='black', linewidth=1, alpha=.75)\n",
        "\n",
        "# colorbar to show the meaning of the different colors\n",
        "cbar = plt.colorbar()\n",
        "cbar.set_label('Customer Satisfaction')\n",
        "\n",
        "plt.title('Product Reviews')\n",
        "plt.xlabel('Consumer')\n",
        "plt.ylabel('Item Reviewed')\n",
        "\n",
        "# placing the text on the plot\n",
        "plt.text(.6, 8.6, label)\n",
        "\n",
        "plt.tight_layout()\n",
        "\n",
        "plt.show()"
      ],
      "execution_count": null,
      "outputs": []
    },
    {
      "cell_type": "markdown",
      "metadata": {
        "id": "HT63KKGUQ-rT"
      },
      "source": [
        "Scatter plots may be the most common plot used to look for relationships, at least initially.  So it's a good idea to spend some time looking at the documentation and familiarizing yourself with what's available with scatter plots."
      ]
    },
    {
      "cell_type": "markdown",
      "metadata": {
        "id": "nW1TW4X8XvCB"
      },
      "source": [
        "# **[Box and Whisker Plots](https://matplotlib.org/api/_as_gen/matplotlib.pyplot.boxplot.html#matplotlib.pyplot.boxplot)**"
      ]
    },
    {
      "cell_type": "markdown",
      "metadata": {
        "id": "fKFEUDP1vEAC"
      },
      "source": [
        "Below is a sample of a Box and Whisker plot.  The data was taken from FIFA 2018 player summaries that includes an overall score based on their soccer abilities.\n",
        "\n",
        "These overall scores were collected for 3 teams in the English Premiere League (one each from the top, middle and bottom of the league standings) and one from the MLS.  \n",
        "\n",
        "The plot shows an interesting spread of talent among the different levels of teams."
      ]
    },
    {
      "cell_type": "code",
      "metadata": {
        "id": "s9Xp3Y0g75hn"
      },
      "source": [
        "import pandas as pd\n",
        "from matplotlib import pyplot as plt\n",
        "\n",
        "# get data for plotting\n",
        "url = 'https://raw.githubusercontent.com/bobg207/Honors_Data_Analysis/master/fifa_data.csv'\n",
        "data = pd.read_csv(url)\n",
        "everton = data.loc[data.Club == 'Everton']['Overall']\n",
        "southampton = data.loc[data.Club == 'Southampton']['Overall']\n",
        "man_c = data.loc[data.Club == 'Manchester City']['Overall']\n",
        "ne_r = data.loc[data.Club == 'New England Revolution']['Overall']\n",
        "\n",
        "# change the size of the plotting figure; (width, height) in inches\n",
        "plt.figure(figsize=(5,4))\n",
        "plt.style.use('seaborn')\n",
        "\n",
        "# takes a list of indivdual sets of data for as many plots as intended to be graphed\n",
        "plt.boxplot([man_c, everton, southampton, ne_r],\n",
        "            labels=['Man City', 'Everton', 'Southampton', 'NE Revs'],\n",
        "            showfliers=True)\n",
        "\n",
        "plt.title('FIFA Team Comparison')\n",
        "plt.ylabel('FIFA Player Overall Score')\n",
        "\n",
        "plt.grid()  # turns off default grid\n",
        "\n",
        "plt.show()\n",
        " "
      ],
      "execution_count": null,
      "outputs": []
    },
    {
      "cell_type": "markdown",
      "metadata": {
        "id": "HMhU_3Si0W2i"
      },
      "source": [
        "Box plots are fairly straightforward.  You'll notice the inclusion of a param.  *showfliers=True* will display outliers in the data.  I included it despite it having no affect on the plot.\n",
        "\n"
      ]
    },
    {
      "cell_type": "markdown",
      "metadata": {
        "id": "kmyyHFmD035w"
      },
      "source": [
        "# **[Subplots](https://matplotlib.org/api/_as_gen/matplotlib.pyplot.subplots.html#matplotlib.pyplot.subplots)**"
      ]
    },
    {
      "cell_type": "markdown",
      "metadata": {
        "id": "EGQVSp-T1i51"
      },
      "source": [
        "## Simple Subplots (Non-Object-Oriented)\n",
        "```\n",
        "plt.subplot(pos, **kwargs)\n",
        "```\n",
        "*   pos is a three digit integer, where the first digit is the number of rows, \n",
        "    the second the number of columns, and the third the index of the subplot. \n",
        "    i.e. fig.add_subplot(235) is the same as fig.add_subplot(2, 3, 5). Note \n",
        "    that all integers must be less than 10 for this form to work.\n",
        "\n",
        "*   example: plt.subplot(221)\n",
        "        - this creates a 2 row x 2 col grid of subplots with the plot code to   \n",
        "        follow represented in the first (\"upper left\") plot\n",
        "        - any plotting code that follows this and precedes the next plt.subplot\n",
        "        call will apply to that subplot"
      ]
    },
    {
      "cell_type": "code",
      "metadata": {
        "id": "Rxlzsa76YCMj"
      },
      "source": [
        "import matplotlib.pyplot as plt\n",
        "import numpy as np\n",
        "\n",
        "x_vals = np.arange(10)\n",
        "y_vals1 = np.random.randint(1, 20, 10)\n",
        "y_vals2 = np.random.randint(1, 20, 10)\n",
        "\n",
        "plt.style.use('seaborn')\n",
        "\n",
        "plt.subplot(211)\n",
        "plt.title('Sample Subplot', fontdict={'fontsize':24})\n",
        "plt.plot(x_vals, y_vals1)\n",
        "\n",
        "plt.subplot(212)\n",
        "plt.plot(x_vals, y_vals2)\n",
        "\n",
        "plt.tight_layout()\n",
        "plt.show()"
      ],
      "execution_count": null,
      "outputs": []
    },
    {
      "cell_type": "markdown",
      "metadata": {
        "id": "tRwAyGupyATh"
      },
      "source": [
        "## Complex Subplots (Object-Oriented)\n",
        "\n",
        "```\n",
        "subplots(self, nrows=1, ncols=1, sharex=False, sharey=False, squeeze=True,    \n",
        "          subplot_kw=None, gridspec_kw=None)\n",
        "```\n",
        "---\n",
        "*   Add a set of subplots to this figure.\n",
        "*   This utility wrapper makes it convenient to create common layouts of \n",
        "    subplots in a single call.\n",
        "*   example if one plot: \n",
        "```\n",
        "# create a figure\n",
        "fig = plt.figure()\n",
        "# create a 1x1 subplot and assign the plots to 1 var\n",
        "ax1= fig.subplots(nrows=2, ncols=1, ...) \n",
        "```\n",
        "---\n",
        "*   example if 2 plots: \n",
        "```\n",
        "# create a figure\n",
        "fig = plt.figure()\n",
        "# create a 2x1 subplot and assign the plots to 2 vars\n",
        "ax1, ax2 = fig.subplots(nrows=2, ncols=1, ...)\n",
        "```\n",
        "---\n",
        "*   example if more than 2 plots: \n",
        "```\n",
        "# create a figure\n",
        "fig = plt.figure()\n",
        "# create an a x b grid of plots and assign the subplot ARRAY to a var\n",
        "axes = fig.subplots(nrows=a, ncols=b, ...)\n",
        "# use array indexing to access the particular plot\n",
        "axes[0, 1].plot(*args, **kwargs)\n",
        "```\n",
        "---\n",
        "*   Pros:\n",
        "        - by creating the figure object you have control of the entire figure \n",
        "          and can adjust its charateristics, such as size\n",
        "        - similar benefits exist for controlling individual plots\n",
        "          and relationships between plots, such as sharing axes scales\n",
        "        - creating objects allows for control of specific plots, eliminates \n",
        "          some of the uncertainty of what objects are affected by changes\n",
        "        - because of explicit use of objects call order doesn't matter\n",
        "---\n",
        "*   Cons:\n",
        "        - must create objects and keep track of the objects names\n",
        "        - different set of functions (easily found in the documentation)\n",
        "\n"
      ]
    },
    {
      "cell_type": "code",
      "metadata": {
        "id": "ks6or1Xy3qua"
      },
      "source": [
        "import matplotlib.pyplot as plt\n",
        "import numpy as np\n",
        "\n",
        "x_vals = np.arange(10)\n",
        "y_vals1 = np.random.randint(1, 20, 10)\n",
        "y_vals2 = np.random.randint(1, 20, 10)\n",
        "\n",
        "# set the style to be used\n",
        "plt.style.use(\"fivethirtyeight\")\n",
        "\n",
        "# create figure and adjust the size: (width, height) in inches\n",
        "fig = plt.figure(figsize=(8, 8))\n",
        "\n",
        "# create subplot objects for a 2 x 1 subplot and they will share the x and y scale\n",
        "ax1, ax2 = fig.subplots(nrows=2, ncols=1, sharex = True, sharey=True)\n",
        "\n",
        "# plot on each subplot\n",
        "ax1.plot(x_vals, y_vals1)\n",
        "ax2.plot(x_vals, y_vals2)\n",
        "\n",
        "# create the labels and title on the corresponsing subplot\n",
        "ax1.set_title('Sample Subplots', fontdict={'fontsize':22})\n",
        "ax2.set_xlabel('X Values')\n",
        "ax1.set_ylabel('Y Values')\n",
        "ax2.set_ylabel('Y Values')\n",
        "\n",
        "# call the auto padding function on the figure object\n",
        "fig.tight_layout()\n",
        "plt.show()"
      ],
      "execution_count": null,
      "outputs": []
    },
    {
      "cell_type": "markdown",
      "metadata": {
        "id": "GMpMwFEMin7K"
      },
      "source": [
        "# **3D Graphs**\n",
        "3D plotting in Matplotlib starts by enabling the utility toolkit. We can enable this toolkit by importing *axes3d* from the *mplot3d* library, which comes with your standard *Matplotlib* installation.\n",
        "\n",
        "Once this sub-module is imported, 3D plots can be created by passing the keyword *projection=\"3d\"* to any of the regular axes creation functions in Matplotlib.\n",
        "\n",
        "General format for 3D plotting:\n",
        "\n",
        "```\n",
        "import matplotlib.pyplot as plt\n",
        "import numpy as np\n",
        "from mpl_toolkits.mplot3d import axes3d\n",
        "\n",
        "plt.style.use('seaborn')\n",
        "\n",
        "# Create a pyplot figure object (fig) \n",
        "fig = plt.figure()\n",
        "\n",
        "# create the axes object using add_subplot method, the first parameter is the size of subplot\n",
        "# second param is let's pyplot know that a 3D graph is expected\n",
        "ax = fig.add_subplot(111, projection = '3d')\n",
        "\n",
        "...\n",
        "plotting, labeling, etc\n",
        "...\n",
        "\n",
        "# auto adjusts the padding so the graph fits nicely in window\n",
        "fig.tight_layout()\n",
        "\n",
        "plt.show()\n",
        "```\n",
        "\n"
      ]
    },
    {
      "cell_type": "markdown",
      "metadata": {
        "id": "ZUCwK9Hsivyj"
      },
      "source": [
        "## **3D Scatter Plots**\n",
        "\n",
        "Now that our axes are created we can start plotting in 3D. The 3D plotting functions are quite intuitive: instead of just scatter we call scatter3D , and instead of passing only x and y data, we pass over x, y, and z. All of the other function settings such as colour and line type remain the same as with the 2D plotting functions."
      ]
    },
    {
      "cell_type": "code",
      "metadata": {
        "id": "BIgV3Idni38F"
      },
      "source": [
        "import matplotlib.pyplot as plt\n",
        "import numpy as np\n",
        "from mpl_toolkits.mplot3d import axes3d\n",
        "\n",
        "# set the style\n",
        "plt.style.use('seaborn')\n",
        "\n",
        "# create the figure\n",
        "fig = plt.figure()\n",
        "\n",
        "# must use \"add_subplot\" to have access to 3d projection\n",
        "ax = fig.add_subplot(111, projection = '3d')\n",
        "\n",
        "# creating one set of data\n",
        "x1 = np.arange(1, 11)\n",
        "y1 = np.random.randint(10, size=10)\n",
        "z1 = np.random.randint(10, size=10)\n",
        "\n",
        "# second set of data\n",
        "x2 = np.arange(-10, 0)\n",
        "y2 = np.random.randint(-10, 0, size=10)\n",
        "z2 = np.random.randint(10, size=10)\n",
        "\n",
        "# calling the scatter method on the axis object\n",
        "ax.scatter3D(x1, y1, z1, c='b', marker='o', label='blue')\n",
        "ax.scatter3D(x2, y2, z2, c='g', marker='D', label='green')\n",
        "\n",
        "# labels, title, and legend\n",
        "ax.set_xlabel('x axis')\n",
        "ax.set_ylabel('y axis')\n",
        "ax.set_zlabel('z axis')\n",
        "plt.title(\"3D Scatter Plot Example\")\n",
        "plt.legend()\n",
        "\n",
        "\n",
        "fig.tight_layout()\n",
        "\n",
        "plt.show()"
      ],
      "execution_count": null,
      "outputs": []
    },
    {
      "cell_type": "markdown",
      "metadata": {
        "id": "cD0xSpcZx0ES"
      },
      "source": [
        "## **3D Line Plots**"
      ]
    },
    {
      "cell_type": "code",
      "metadata": {
        "id": "TwQjUMXrx5aV"
      },
      "source": [
        "import matplotlib.pyplot as plt\n",
        "import numpy as np\n",
        "from mpl_toolkits.mplot3d import axes3d\n",
        "\n",
        "plt.style.use('seaborn')\n",
        "fig = plt.figure()\n",
        "ax = fig.add_subplot(111, projection = '3d')\n",
        "\n",
        "# creating one set of data\n",
        "x1 = [1, 2, 3, 4, 5, 6, 7, 8, 9, 10]\n",
        "y1 = np.random.randint(10, size=10)\n",
        "z1 = np.random.randint(10, size=10)\n",
        "\n",
        "ax.plot3D(x1, y1, z1)\n",
        "\n",
        "# labels, title\n",
        "ax.set_xlabel('x axis')\n",
        "ax.set_ylabel('y axis')\n",
        "ax.set_zlabel('z axis')\n",
        "plt.title(\"3D Line Plot Example\")\n",
        "\n",
        "# auto adjusts the padding so the graph fits nicely in window\n",
        "plt.tight_layout()\n",
        "\n",
        "plt.show()"
      ],
      "execution_count": null,
      "outputs": []
    },
    {
      "cell_type": "code",
      "metadata": {
        "id": "nnS0HVG6ybyy"
      },
      "source": [
        "import matplotlib.pyplot as plt\n",
        "import numpy as np\n",
        "from mpl_toolkits.mplot3d import axes3d\n",
        "\n",
        "plt.style.use('seaborn')\n",
        "fig = plt.figure()\n",
        "ax = fig.add_subplot(111, projection = '3d')\n",
        "\n",
        "# linspace method produces an array of 1000 (default is 50) numbers between\n",
        "# 0 (start) and 15 (end, inclusive)\n",
        "z_line = np.linspace(0, 15, 1000)\n",
        "\n",
        "# use the list above to compute cosine (x) and sine (y) values\n",
        "x_line = np.cos(z_line)\n",
        "y_line = np.sin(z_line)\n",
        "ax.plot3D(x_line, y_line, z_line, 'blue')\n",
        "\n",
        "plt.show()"
      ],
      "execution_count": null,
      "outputs": []
    },
    {
      "cell_type": "markdown",
      "metadata": {
        "id": "Go5IvJ1qk9i2"
      },
      "source": [
        "## **3D Bar Plots**\n",
        "Bar plots are used quite frequently in data visualisation projects since they’re able to convey information, usually some type of comparison, in a simple and intuitive way. The beauty of 3D bar plots is that they maintain the simplicity of 2D bar plots while extending their capacity to represent comparative information.\n",
        "\n",
        "Each bar in a bar plot always needs 2 things: ***a position and a size***. With 3D bar plots, we’re going to supply that information for all three variables x, y, z.\n",
        "\n",
        "We’ll select the z axis to encode the height of each bar; therefore, each bar will start at z = 0 and have a size that is proportional to the value we are trying to visualise. The x and y positions will represent the coordinates of the bar across the 2D plane of z = 0. We’ll set the x and y size of each bar to a value of 1 so that all the bars have the same shape.\n",
        "\n",
        "Check out the code and 3D plots below for an example!"
      ]
    },
    {
      "cell_type": "code",
      "metadata": {
        "id": "NnkQ74h0lGtq"
      },
      "source": [
        "import matplotlib.pyplot as plt\n",
        "import numpy as np\n",
        "from mpl_toolkits.mplot3d import axes3d\n",
        "\n",
        "plt.style.use('seaborn')\n",
        "fig = plt.figure()\n",
        "ax = fig.add_subplot(111, projection = '3d')\n",
        "\n",
        "# create data lists\n",
        "x = [1, 2, 3, 4, 5, 6, 7, 8, 9, 10]\n",
        "y = np.random.randint(10, size=10)    # fill a list with 10 random ints\n",
        "z = np.zeros(10)                      # fill a list with 10 zeros\n",
        "\n",
        "# create the dimensions of each data set\n",
        "x_size = np.ones(10)                      # x-dim is length 1\n",
        "y_size = np.ones(10)                      # y-dim is length 1\n",
        "z_size = np.random.randint(10, size=10)   # z-dim is the actual z data set\n",
        "\n",
        "# create the 3D bar graph\n",
        "ax.bar3d(x, y, z, x_size, y_size, z_size, color='g')\n",
        "\n",
        "# labels, title, auto-formatting\n",
        "ax.set_xlabel('x axis')\n",
        "ax.set_ylabel('y axis')\n",
        "ax.set_zlabel('z axis')\n",
        "plt.title(\"3D Bar Chart Example\")\n",
        "plt.tight_layout()\n",
        "plt.show()"
      ],
      "execution_count": null,
      "outputs": []
    },
    {
      "cell_type": "code",
      "metadata": {
        "id": "HcZVoEY7aAdj",
        "collapsed": true
      },
      "source": [
        "%matplotlib inline\n",
        "%notebook"
      ],
      "execution_count": null,
      "outputs": []
    },
    {
      "cell_type": "markdown",
      "metadata": {
        "id": "BkTd4x6Lrd2p"
      },
      "source": [
        "## **Graph of a Plane**"
      ]
    },
    {
      "cell_type": "code",
      "metadata": {
        "id": "uLZBPcwnrjlt"
      },
      "source": [
        "import matplotlib.pyplot as plt\n",
        "import numpy as np\n",
        "from mpl_toolkits.mplot3d import axes3d\n",
        "\n",
        "plt.style.use('fivethirtyeight')\n",
        "fig = plt.figure()\n",
        "\n",
        "# needed to create 3D projection\n",
        "ax = fig.add_subplot(111, projection = '3d')\n",
        "\n",
        "# outputs from regression eqn\n",
        "a, b, c, = 2, 3, 4\n",
        "\n",
        "# sets of data to be used for 3D plot\n",
        "x = np.random.randint(10, size=20)\n",
        "y = np.random.randint(10, size=20)\n",
        "z = np.random.randint(10, size=20)\n",
        "\n",
        "# create a rectangular grid out of two given one-dimensional arrays representing the Matrix indexing\n",
        "xx, yy = np.meshgrid(x, y)\n",
        "\n",
        "# use these grids along with reg eqn outputs to find predicted z values\n",
        "pred_z = a*xx + b*yy + c\n",
        "\n",
        "ax.scatter(x, y, z, color='Red', marker='o')\n",
        "ax.plot_surface(xx, yy, pred_z, color='yellow', alpha=0.1,\n",
        "                rstride=2, cstride=2)\n",
        "\n",
        "plt.title(\"X1 v X2 v Y\")\n",
        "\n",
        "plt.tight_layout()\n",
        "plt.show()"
      ],
      "execution_count": null,
      "outputs": []
    }
  ]
}