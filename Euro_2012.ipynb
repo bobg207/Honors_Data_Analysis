{
  "nbformat": 4,
  "nbformat_minor": 0,
  "metadata": {
    "colab": {
      "provenance": [],
      "include_colab_link": true
    },
    "kernelspec": {
      "name": "python3",
      "display_name": "Python 3"
    }
  },
  "cells": [
    {
      "cell_type": "markdown",
      "metadata": {
        "id": "view-in-github",
        "colab_type": "text"
      },
      "source": [
        "<a href=\"https://colab.research.google.com/github/bobg207/Honors_Data_Analysis/blob/master/Euro_2012.ipynb\" target=\"_parent\"><img src=\"https://colab.research.google.com/assets/colab-badge.svg\" alt=\"Open In Colab\"/></a>"
      ]
    },
    {
      "cell_type": "markdown",
      "metadata": {
        "id": "dZ12t1zW3dGh"
      },
      "source": [
        "## Step 1. Import the necessary libraries¶"
      ]
    },
    {
      "cell_type": "code",
      "metadata": {
        "id": "m5jPIkaG3Fat"
      },
      "source": [],
      "execution_count": null,
      "outputs": []
    },
    {
      "cell_type": "markdown",
      "metadata": {
        "id": "Dv7AWWls3y10"
      },
      "source": [
        "\n",
        "## Step 2. Import the Euro_2012_Team_Stats dataset from GitHub.\n",
        "## Step 3. Assign it to a variable called euro12."
      ]
    },
    {
      "cell_type": "code",
      "metadata": {
        "id": "OvPi-TdF244v"
      },
      "source": [],
      "execution_count": null,
      "outputs": []
    },
    {
      "cell_type": "markdown",
      "metadata": {
        "id": "5Iqv2lDD5KMb"
      },
      "source": [
        "## Step 4. Select only the Goals column."
      ]
    },
    {
      "cell_type": "code",
      "metadata": {
        "id": "DT4ur-Ud5LVw"
      },
      "source": [],
      "execution_count": null,
      "outputs": []
    },
    {
      "cell_type": "markdown",
      "metadata": {
        "id": "z4boTORk5L1A"
      },
      "source": [
        "## Step 5. How many teams participated in the Euro2012?"
      ]
    },
    {
      "cell_type": "code",
      "metadata": {
        "id": "bSn40SMH6MUm"
      },
      "source": [],
      "execution_count": null,
      "outputs": []
    },
    {
      "cell_type": "markdown",
      "metadata": {
        "id": "mPE32-yY66cf"
      },
      "source": [
        "## Step 6. How many columns are in the dataset?"
      ]
    },
    {
      "cell_type": "code",
      "metadata": {
        "id": "nqgMGBQW7ESj"
      },
      "source": [],
      "execution_count": null,
      "outputs": []
    },
    {
      "cell_type": "markdown",
      "metadata": {
        "id": "fu3KKrQI7H42"
      },
      "source": [
        "## Step 7. View only the columns Team, Yellow Cards and Red Cards and assign them to a dataframe called discipline."
      ]
    },
    {
      "cell_type": "code",
      "metadata": {
        "id": "7fQPMoOD7NJM"
      },
      "source": [],
      "execution_count": null,
      "outputs": []
    },
    {
      "cell_type": "markdown",
      "metadata": {
        "id": "QyCap7Xb8UGp"
      },
      "source": [
        "## Step 8. Sort the teams by Red Cards, then to Yellow Cards, both in descending order."
      ]
    },
    {
      "cell_type": "code",
      "metadata": {
        "id": "pQDR9cPp8Zg6"
      },
      "source": [],
      "execution_count": null,
      "outputs": []
    },
    {
      "cell_type": "markdown",
      "metadata": {
        "id": "8MxHqYFNA967"
      },
      "source": [
        "## Step 9. Filter teams that scored more than 6 goals"
      ]
    },
    {
      "cell_type": "code",
      "metadata": {
        "id": "79Txi3HOBKYB"
      },
      "source": [],
      "execution_count": null,
      "outputs": []
    },
    {
      "cell_type": "markdown",
      "metadata": {
        "id": "WaK9-iQiC7f1"
      },
      "source": [
        "## Step 10. Select the teams that start with G"
      ]
    },
    {
      "cell_type": "code",
      "metadata": {
        "id": "WKNqtnULC_kC"
      },
      "source": [],
      "execution_count": null,
      "outputs": []
    },
    {
      "cell_type": "markdown",
      "metadata": {
        "id": "2CPm1cAADOrT"
      },
      "source": [
        "## Step 11. Select the first 7 columns"
      ]
    },
    {
      "cell_type": "code",
      "metadata": {
        "id": "rzEUR-__Da_l"
      },
      "source": [],
      "execution_count": null,
      "outputs": []
    },
    {
      "cell_type": "markdown",
      "metadata": {
        "id": "nenAxTKvDqpx"
      },
      "source": [
        "## Step 12. Select all columns except the last 3. "
      ]
    },
    {
      "cell_type": "code",
      "metadata": {
        "id": "YU4x-mheDxXL"
      },
      "source": [],
      "execution_count": null,
      "outputs": []
    },
    {
      "cell_type": "markdown",
      "metadata": {
        "id": "t_D0eAwNEgin"
      },
      "source": [
        "## Step 13. Present only the Shooting Accuracy from England, Italy and Russia"
      ]
    },
    {
      "cell_type": "code",
      "metadata": {
        "id": "-8ZwrVLjEloz"
      },
      "source": [],
      "execution_count": null,
      "outputs": []
    },
    {
      "cell_type": "markdown",
      "metadata": {
        "id": "XMYCQXkyFGGf"
      },
      "source": [
        "## Step 14. Create a new column called passing_accuracy and fill it with the appropriate values, rounded to hundredths.\n",
        "* There is currently a column for Passing Accuracy so why would we need to create another?"
      ]
    },
    {
      "cell_type": "code",
      "metadata": {
        "id": "Q-WDjZuVFWYM"
      },
      "source": [],
      "execution_count": null,
      "outputs": []
    },
    {
      "cell_type": "markdown",
      "metadata": {
        "id": "8z0DTCafF8DH"
      },
      "source": [
        "## Step 15. Sort the data, by this new column, in descending order and create a bar graph to represent the data for all teams."
      ]
    },
    {
      "cell_type": "code",
      "metadata": {
        "id": "iVkCTTGYGrJl"
      },
      "source": [],
      "execution_count": null,
      "outputs": []
    },
    {
      "cell_type": "code",
      "source": [
        "import pandas as pd\n",
        "\n",
        "def add_data(item):\n",
        "  return sum(item)\n",
        "\n",
        "df = pd.DataFrame({'A':[1, 2, 3],\n",
        "                   'B':[4, 5, 6],\n",
        "                   'C':[7, 8, 9]})\n",
        "\n",
        "df.agg({'A': \"sum\"})"
      ],
      "metadata": {
        "colab": {
          "base_uri": "https://localhost:8080/"
        },
        "id": "jsyOOftTThOu",
        "outputId": "3a032710-0351-42da-b26d-b73b0da62016"
      },
      "execution_count": null,
      "outputs": [
        {
          "output_type": "execute_result",
          "data": {
            "text/plain": [
              "A    6\n",
              "dtype: int64"
            ]
          },
          "metadata": {},
          "execution_count": 3
        }
      ]
    }
  ]
}