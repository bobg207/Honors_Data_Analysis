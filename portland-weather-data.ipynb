{
 "cells": [
  {
   "cell_type": "markdown",
   "id": "cfa5297e",
   "metadata": {
    "id": "ICPlcarrBVMj",
    "papermill": {
     "duration": 0.005164,
     "end_time": "2022-09-19T14:13:29.192931",
     "exception": false,
     "start_time": "2022-09-19T14:13:29.187767",
     "status": "completed"
    },
    "tags": []
   },
   "source": [
    "# Create a convert_temp function\n",
    "\n",
    "The temperatures, in the data, are in degrees Celsius and mulitplied by 10 so there are no decimals in the data.  Create a function to convert a given temp to a temp in degrees Fahrenheit, rounded to one decimal place.\n",
    "\n"
   ]
  },
  {
   "cell_type": "code",
   "execution_count": null,
   "id": "2aab79a5",
   "metadata": {
    "id": "Qm2pvMtjFCXf",
    "papermill": {
     "duration": 0.003525,
     "end_time": "2022-09-19T14:13:29.200493",
     "exception": false,
     "start_time": "2022-09-19T14:13:29.196968",
     "status": "completed"
    },
    "tags": []
   },
   "outputs": [],
   "source": [
    "\n"
   ]
  },
  {
   "cell_type": "markdown",
   "id": "512470ed",
   "metadata": {
    "id": "-ywZsDIFG6DG",
    "papermill": {
     "duration": 0.00345,
     "end_time": "2022-09-19T14:13:29.207632",
     "exception": false,
     "start_time": "2022-09-19T14:13:29.204182",
     "status": "completed"
    },
    "tags": []
   },
   "source": [
    "# Read the data from the file\n",
    "After you've loaded the data file into Kaggle, click on the file in the right menu.  This will open the file in a window below. You may want to use this window to see the data as it exists in the file\n",
    "\n",
    "Create the path (can be copied from the path given in the window from above).\n",
    "\n",
    "Use this path to read the data from the file.  Decide how you will do this and how you would like the data returned.\n",
    "\n",
    "Spend some time looking at the data and deciding how you will \"clean\" the data.  \n",
    "\n",
    "1.   Which columns of data are of interest and wich will be ignored\n",
    "2.   What are the data types currently and what do you want them to be\n",
    "3.   What data do you want and how will you store the data you choose\n",
    "4.   How will you convert the data that needs changing\n",
    "5.   Is there any missing or unusual data? How will you handle this?\n",
    "6.   Other?"
   ]
  },
  {
   "cell_type": "markdown",
   "id": "bfb6e40e",
   "metadata": {
    "id": "Ht_wS5lLHQ3g",
    "papermill": {
     "duration": 0.00375,
     "end_time": "2022-09-19T14:13:29.215469",
     "exception": false,
     "start_time": "2022-09-19T14:13:29.211719",
     "status": "completed"
    },
    "tags": []
   },
   "source": [
    "# Cleaning the Data\n",
    "\n",
    "In this text cell explain your decisions based on what you saw in the data.  Organize your explanations so it is clear what your intent is and what code should be seen in the code cell that follows."
   ]
  },
  {
   "cell_type": "code",
   "execution_count": null,
   "id": "50e86adf",
   "metadata": {
    "id": "FpeKv1II2U6f",
    "papermill": {
     "duration": 0.003431,
     "end_time": "2022-09-19T14:13:29.222603",
     "exception": false,
     "start_time": "2022-09-19T14:13:29.219172",
     "status": "completed"
    },
    "tags": []
   },
   "outputs": [],
   "source": []
  },
  {
   "cell_type": "markdown",
   "id": "65922a7c",
   "metadata": {
    "id": "kbF2gtNkAEKk",
    "papermill": {
     "duration": 0.003421,
     "end_time": "2022-09-19T14:13:29.229754",
     "exception": false,
     "start_time": "2022-09-19T14:13:29.226333",
     "status": "completed"
    },
    "tags": []
   },
   "source": [
    "# Plotting Data"
   ]
  },
  {
   "cell_type": "markdown",
   "id": "99356a75",
   "metadata": {
    "id": "v3Yc1otqPpx8",
    "papermill": {
     "duration": 0.00342,
     "end_time": "2022-09-19T14:13:29.236862",
     "exception": false,
     "start_time": "2022-09-19T14:13:29.233442",
     "status": "completed"
    },
    "tags": []
   },
   "source": [
    "## Subplots of Daily High and Daily Low Temperatures\n",
    "1. Create a Numpy array of numbers from 1 - 365, to be used for the x-axis \n",
    "2. x- and y-axes should share the same values\n",
    "3. label the axes and title the plot\n",
    "4. use a scatterplot to display the data"
   ]
  },
  {
   "cell_type": "code",
   "execution_count": null,
   "id": "83169ec1",
   "metadata": {
    "id": "c0dZ1H6B2XnF",
    "papermill": {
     "duration": 0.0035,
     "end_time": "2022-09-19T14:13:29.244070",
     "exception": false,
     "start_time": "2022-09-19T14:13:29.240570",
     "status": "completed"
    },
    "tags": []
   },
   "outputs": [],
   "source": []
  },
  {
   "cell_type": "markdown",
   "id": "29a6fcbe",
   "metadata": {
    "id": "BqeJXIl95eQl",
    "papermill": {
     "duration": 0.003483,
     "end_time": "2022-09-19T14:13:29.251261",
     "exception": false,
     "start_time": "2022-09-19T14:13:29.247778",
     "status": "completed"
    },
    "tags": []
   },
   "source": [
    "## Moving averages"
   ]
  },
  {
   "cell_type": "markdown",
   "id": "4e270961",
   "metadata": {
    "id": "43rKADKp91Ob",
    "papermill": {
     "duration": 0.003431,
     "end_time": "2022-09-19T14:13:29.258402",
     "exception": false,
     "start_time": "2022-09-19T14:13:29.254971",
     "status": "completed"
    },
    "tags": []
   },
   "source": [
    "### Moving Averages Function\n",
    "\n",
    "Write a function `simple_moving_avg` that takes a list of values and a period (number of days) and returns a list containing the moving averages of the original list for the given period length.\n",
    "\n",
    "[Visit this site for an explanation computing a simple moving average](https://precisiontradingsystems.com/what-is-a-moving-average.htm)\n",
    "\n",
    "Write this function to a python file that you'll use to store your functions to be accessed throughout the course."
   ]
  },
  {
   "cell_type": "code",
   "execution_count": null,
   "id": "3c38bc0b",
   "metadata": {
    "id": "GUbiQVPC2Zco",
    "papermill": {
     "duration": 0.003454,
     "end_time": "2022-09-19T14:13:29.265594",
     "exception": false,
     "start_time": "2022-09-19T14:13:29.262140",
     "status": "completed"
    },
    "tags": []
   },
   "outputs": [],
   "source": []
  },
  {
   "cell_type": "markdown",
   "id": "0d0d0d33",
   "metadata": {
    "id": "KdAgIGpRDMi3",
    "papermill": {
     "duration": 0.003579,
     "end_time": "2022-09-19T14:13:29.272935",
     "exception": false,
     "start_time": "2022-09-19T14:13:29.269356",
     "status": "completed"
    },
    "tags": []
   },
   "source": [
    "### Hi/Low Temp 10-day Moving averages\n",
    "\n",
    "Use the function to find the 10-day moving average for high and low temperatures and plot them on the same graph."
   ]
  },
  {
   "cell_type": "code",
   "execution_count": null,
   "id": "b292bcc4",
   "metadata": {
    "id": "QA_ErxLK2bGh",
    "papermill": {
     "duration": 0.003625,
     "end_time": "2022-09-19T14:13:29.281053",
     "exception": false,
     "start_time": "2022-09-19T14:13:29.277428",
     "status": "completed"
    },
    "tags": []
   },
   "outputs": [],
   "source": []
  },
  {
   "cell_type": "markdown",
   "id": "65260a89",
   "metadata": {
    "id": "2cnUb3RHHPGe",
    "papermill": {
     "duration": 0.00358,
     "end_time": "2022-09-19T14:13:29.288473",
     "exception": false,
     "start_time": "2022-09-19T14:13:29.284893",
     "status": "completed"
    },
    "tags": []
   },
   "source": [
    "## Average Monthly Temps/Precip"
   ]
  },
  {
   "cell_type": "markdown",
   "id": "f2b9d4c2",
   "metadata": {
    "id": "8xueP_35He-B",
    "papermill": {
     "duration": 0.003536,
     "end_time": "2022-09-19T14:13:29.295862",
     "exception": false,
     "start_time": "2022-09-19T14:13:29.292326",
     "status": "completed"
    },
    "tags": []
   },
   "source": [
    "### Find the average high and low temperature for each month.  Store each in its own list."
   ]
  },
  {
   "cell_type": "code",
   "execution_count": null,
   "id": "9b4e3126",
   "metadata": {
    "id": "xQTbpHty2d7C",
    "papermill": {
     "duration": 0.003491,
     "end_time": "2022-09-19T14:13:29.303255",
     "exception": false,
     "start_time": "2022-09-19T14:13:29.299764",
     "status": "completed"
    },
    "tags": []
   },
   "outputs": [],
   "source": []
  },
  {
   "cell_type": "markdown",
   "id": "fc653bcf",
   "metadata": {
    "id": "64wG3aAAcVWe",
    "papermill": {
     "duration": 0.003494,
     "end_time": "2022-09-19T14:13:29.310515",
     "exception": false,
     "start_time": "2022-09-19T14:13:29.307021",
     "status": "completed"
    },
    "tags": []
   },
   "source": [
    "### Plot the Data - Temp Avgs\n",
    "Plot the monthly averages as a Bar plot with both high and low temps on the same graph.\n",
    "\n",
    "Look at `pyplot` documentation under `.xticks` to learn how to rotate the month names so they are more readable."
   ]
  },
  {
   "cell_type": "code",
   "execution_count": null,
   "id": "977cd7ca",
   "metadata": {
    "id": "HcoUnb9SdThI",
    "papermill": {
     "duration": 0.00343,
     "end_time": "2022-09-19T14:13:29.317603",
     "exception": false,
     "start_time": "2022-09-19T14:13:29.314173",
     "status": "completed"
    },
    "tags": []
   },
   "outputs": [],
   "source": []
  }
 ],
 "metadata": {
  "kernelspec": {
   "display_name": "Python 3",
   "language": "python",
   "name": "python3"
  },
  "language_info": {
   "codemirror_mode": {
    "name": "ipython",
    "version": 3
   },
   "file_extension": ".py",
   "mimetype": "text/x-python",
   "name": "python",
   "nbconvert_exporter": "python",
   "pygments_lexer": "ipython3",
   "version": "3.7.12"
  },
  "papermill": {
   "default_parameters": {},
   "duration": 10.2081,
   "end_time": "2022-09-19T14:13:30.045457",
   "environment_variables": {},
   "exception": null,
   "input_path": "__notebook__.ipynb",
   "output_path": "__notebook__.ipynb",
   "parameters": {},
   "start_time": "2022-09-19T14:13:19.837357",
   "version": "2.3.4"
  }
 },
 "nbformat": 4,
 "nbformat_minor": 5
}
